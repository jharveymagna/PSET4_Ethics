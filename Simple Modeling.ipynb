{
 "cells": [
  {
   "cell_type": "code",
   "execution_count": 1,
   "id": "52c6bb8e",
   "metadata": {},
   "outputs": [],
   "source": [
    "import pandas as pd\n",
    "from sklearn.model_selection import train_test_split\n",
    "from sklearn.linear_model import LogisticRegression\n",
    "from sklearn.metrics import accuracy_score, classification_report, confusion_matrix\n",
    "from sklearn.preprocessing import StandardScaler\n",
    "import numpy as np\n",
    "import matplotlib.pyplot as plt\n",
    "import seaborn as sns\n",
    "import statsmodels.api as sm"
   ]
  },
  {
   "cell_type": "code",
   "execution_count": 2,
   "id": "8b183bbb",
   "metadata": {},
   "outputs": [],
   "source": [
    "diabetesData = pd.read_csv('diabetes.csv')"
   ]
  },
  {
   "cell_type": "code",
   "execution_count": 3,
   "id": "da4fe5dc",
   "metadata": {},
   "outputs": [
    {
     "name": "stdout",
     "output_type": "stream",
     "text": [
      "Dataset shape: (768, 9)\n",
      "Dataset columns: ['Pregnancies', 'Glucose', 'BloodPressure', 'SkinThickness', 'Insulin', 'BMI', 'DiabetesPedigreeFunction', 'Age', 'Outcome']\n"
     ]
    }
   ],
   "source": [
    "print(f\"Dataset shape: {diabetesData.shape}\")\n",
    "print(f\"Dataset columns: {diabetesData.columns.tolist()}\")"
   ]
  },
  {
   "cell_type": "code",
   "execution_count": 4,
   "id": "c1539de2",
   "metadata": {},
   "outputs": [
    {
     "name": "stdout",
     "output_type": "stream",
     "text": [
      "Dataset Info:\n",
      "<class 'pandas.core.frame.DataFrame'>\n",
      "RangeIndex: 768 entries, 0 to 767\n",
      "Data columns (total 9 columns):\n",
      " #   Column                    Non-Null Count  Dtype  \n",
      "---  ------                    --------------  -----  \n",
      " 0   Pregnancies               768 non-null    int64  \n",
      " 1   Glucose                   768 non-null    int64  \n",
      " 2   BloodPressure             768 non-null    int64  \n",
      " 3   SkinThickness             768 non-null    int64  \n",
      " 4   Insulin                   768 non-null    int64  \n",
      " 5   BMI                       768 non-null    float64\n",
      " 6   DiabetesPedigreeFunction  768 non-null    float64\n",
      " 7   Age                       768 non-null    int64  \n",
      " 8   Outcome                   768 non-null    int64  \n",
      "dtypes: float64(2), int64(7)\n",
      "memory usage: 54.1 KB\n",
      "None\n",
      "\n",
      "Target variable distribution:\n",
      "Outcome\n",
      "0    500\n",
      "1    268\n",
      "Name: count, dtype: int64\n",
      "\n",
      "Percentage of positive cases: 34.90%\n",
      "\n",
      "Missing values:\n",
      "Pregnancies                 0\n",
      "Glucose                     0\n",
      "BloodPressure               0\n",
      "SkinThickness               0\n",
      "Insulin                     0\n",
      "BMI                         0\n",
      "DiabetesPedigreeFunction    0\n",
      "Age                         0\n",
      "Outcome                     0\n",
      "dtype: int64\n"
     ]
    }
   ],
   "source": [
    "# Explore the data\n",
    "print(\"Dataset Info:\")\n",
    "print(diabetesData.info())\n",
    "print(\"\\nTarget variable distribution:\")\n",
    "print(diabetesData['Outcome'].value_counts())\n",
    "print(f\"\\nPercentage of positive cases: {diabetesData['Outcome'].mean():.2%}\")\n",
    "\n",
    "# Check for missing values\n",
    "print(\"\\nMissing values:\")\n",
    "print(diabetesData.isnull().sum())"
   ]
  },
  {
   "cell_type": "code",
   "execution_count": 5,
   "id": "70d09c7e",
   "metadata": {},
   "outputs": [
    {
     "name": "stdout",
     "output_type": "stream",
     "text": [
      "Features: ['Pregnancies', 'Glucose', 'BloodPressure', 'SkinThickness', 'Insulin', 'BMI', 'DiabetesPedigreeFunction', 'Age']\n",
      "Feature matrix shape: (768, 8)\n",
      "Target vector shape: (768,)\n",
      "\n",
      "Columns with zero values (potential missing data indicators):\n",
      "Pregnancies: 111 zeros (14.5%)\n",
      "Glucose: 5 zeros (0.7%)\n",
      "BloodPressure: 35 zeros (4.6%)\n",
      "SkinThickness: 227 zeros (29.6%)\n",
      "Insulin: 374 zeros (48.7%)\n",
      "BMI: 11 zeros (1.4%)\n"
     ]
    }
   ],
   "source": [
    "# Prepare the data for modeling\n",
    "X = diabetesData.drop('Outcome', axis=1)  # Features\n",
    "y = diabetesData['Outcome']  # Target\n",
    "\n",
    "print(\"Features:\", X.columns.tolist())\n",
    "print(f\"Feature matrix shape: {X.shape}\")\n",
    "print(f\"Target vector shape: {y.shape}\")\n",
    "\n",
    "# Check for any zero values that might indicate missing data\n",
    "print(\"\\nColumns with zero values (potential missing data indicators):\")\n",
    "for col in X.columns:\n",
    "    zero_count = (X[col] == 0).sum()\n",
    "    zero_percentage = (zero_count / len(X)) * 100\n",
    "    if zero_count > 0:\n",
    "        print(f\"{col}: {zero_count} zeros ({zero_percentage:.1f}%)\")"
   ]
  },
  {
   "cell_type": "code",
   "execution_count": 6,
   "id": "7acfacfa",
   "metadata": {},
   "outputs": [
    {
     "name": "stdout",
     "output_type": "stream",
     "text": [
      "Training set size: 614 samples\n",
      "Test set size: 154 samples\n",
      "Training set positive rate: 34.85%\n",
      "Test set positive rate: 35.06%\n",
      "\n",
      "Features have been standardized (mean=0, std=1)\n"
     ]
    }
   ],
   "source": [
    "# Split the data into training and testing sets\n",
    "X_train, X_test, y_train, y_test = train_test_split(\n",
    "    X, y, test_size=0.2, random_state=42, stratify=y\n",
    ")\n",
    "\n",
    "print(f\"Training set size: {X_train.shape[0]} samples\")\n",
    "print(f\"Test set size: {X_test.shape[0]} samples\")\n",
    "print(f\"Training set positive rate: {y_train.mean():.2%}\")\n",
    "print(f\"Test set positive rate: {y_test.mean():.2%}\")\n",
    "\n",
    "# Scale the features (important for logistic regression)\n",
    "scaler = StandardScaler()\n",
    "X_train_scaled = scaler.fit_transform(X_train)\n",
    "X_test_scaled = scaler.transform(X_test)\n",
    "\n",
    "print(\"\\nFeatures have been standardized (mean=0, std=1)\")"
   ]
  },
  {
   "cell_type": "code",
   "execution_count": 7,
   "id": "69a4a335",
   "metadata": {},
   "outputs": [
    {
     "name": "stdout",
     "output_type": "stream",
     "text": [
      "Optimization terminated successfully.\n",
      "         Current function value: 0.466207\n",
      "         Iterations 6\n",
      "Logistic Regression Model Training Complete!\n",
      "Training Accuracy: 0.7948\n",
      "Test Accuracy: 0.7143\n",
      "\n",
      "============================================================\n",
      "STATSMODELS LOGISTIC REGRESSION SUMMARY:\n",
      "============================================================\n",
      "                           Logit Regression Results                           \n",
      "==============================================================================\n",
      "Dep. Variable:                Outcome   No. Observations:                  614\n",
      "Model:                          Logit   Df Residuals:                      605\n",
      "Method:                           MLE   Df Model:                            8\n",
      "Date:                Thu, 17 Jul 2025   Pseudo R-squ.:                  0.2789\n",
      "Time:                        15:26:51   Log-Likelihood:                -286.25\n",
      "converged:                       True   LL-Null:                       -396.97\n",
      "Covariance Type:            nonrobust   LLR p-value:                 1.909e-43\n",
      "==============================================================================\n",
      "                 coef    std err          z      P>|z|      [0.025      0.975]\n",
      "------------------------------------------------------------------------------\n",
      "const         -0.8807      0.109     -8.064      0.000      -1.095      -0.667\n",
      "x1             0.3805      0.122      3.129      0.002       0.142       0.619\n",
      "x2             1.1661      0.135      8.609      0.000       0.901       1.432\n",
      "x3            -0.2048      0.110     -1.855      0.064      -0.421       0.012\n",
      "x4             0.0695      0.126      0.551      0.581      -0.178       0.317\n",
      "x5            -0.1371      0.124     -1.107      0.268      -0.380       0.106\n",
      "x6             0.7274      0.135      5.405      0.000       0.464       0.991\n",
      "x7             0.2593      0.111      2.335      0.020       0.042       0.477\n",
      "x8             0.1819      0.121      1.499      0.134      -0.056       0.420\n",
      "==============================================================================\n"
     ]
    }
   ],
   "source": [
    "# Create and train the logistic regression model using statsmodels\n",
    "# Add constant term for intercept (statsmodels requirement)\n",
    "X_train_scaled_sm = sm.add_constant(X_train_scaled)\n",
    "X_test_scaled_sm = sm.add_constant(X_test_scaled)\n",
    "\n",
    "# Fit logistic regression with statsmodels\n",
    "logit_model = sm.Logit(y_train, X_train_scaled_sm)\n",
    "logit_result = logit_model.fit()\n",
    "\n",
    "# Make predictions (keep same variable names for compatibility)\n",
    "y_train_proba = logit_result.predict(X_train_scaled_sm)\n",
    "y_test_proba = logit_result.predict(X_test_scaled_sm)\n",
    "y_train_pred = (y_train_proba > 0.5).astype(int)\n",
    "y_test_pred = (y_test_proba > 0.5).astype(int)\n",
    "\n",
    "print(\"Logistic Regression Model Training Complete!\")\n",
    "print(f\"Training Accuracy: {accuracy_score(y_train, y_train_pred):.4f}\")\n",
    "print(f\"Test Accuracy: {accuracy_score(y_test, y_test_pred):.4f}\")\n",
    "\n",
    "# Display model summary with p-values\n",
    "print(\"\\n\" + \"=\"*60)\n",
    "print(\"STATSMODELS LOGISTIC REGRESSION SUMMARY:\")\n",
    "print(\"=\"*60)\n",
    "print(logit_result.summary())"
   ]
  },
  {
   "cell_type": "code",
   "execution_count": 8,
   "id": "06f7a0ad",
   "metadata": {},
   "outputs": [
    {
     "name": "stdout",
     "output_type": "stream",
     "text": [
      "\n",
      "CLASSIFICATION REPORT (Test Set):\n",
      "              precision    recall  f1-score   support\n",
      "\n",
      " No Diabetes       0.76      0.82      0.79       100\n",
      "    Diabetes       0.61      0.52      0.56        54\n",
      "\n",
      "    accuracy                           0.71       154\n",
      "   macro avg       0.68      0.67      0.67       154\n",
      "weighted avg       0.71      0.71      0.71       154\n",
      "\n",
      "\n",
      "CONFUSION MATRIX (Test Set):\n",
      "                 Predicted\n",
      "                No    Yes\n",
      "Actual No     82    18\n",
      "Actual Yes    26    28\n",
      "\n",
      "ADDITIONAL METRICS:\n",
      "Sensitivity (Recall): 0.5185\n",
      "Specificity: 0.8200\n",
      "Positive Predictive Value: 0.6087\n",
      "Negative Predictive Value: 0.7593\n"
     ]
    }
   ],
   "source": [
    "# Detailed model evaluation\n",
    "print(\"\\nCLASSIFICATION REPORT (Test Set):\")\n",
    "print(classification_report(y_test, y_test_pred, target_names=['No Diabetes', 'Diabetes']))\n",
    "\n",
    "# Confusion Matrix\n",
    "cm = confusion_matrix(y_test, y_test_pred)\n",
    "print(f\"\\nCONFUSION MATRIX (Test Set):\")\n",
    "print(f\"                 Predicted\")\n",
    "print(f\"                No    Yes\")\n",
    "print(f\"Actual No   {cm[0,0]:4d}  {cm[0,1]:4d}\")\n",
    "print(f\"Actual Yes  {cm[1,0]:4d}  {cm[1,1]:4d}\")\n",
    "\n",
    "# Calculate additional metrics\n",
    "tn, fp, fn, tp = cm.ravel()\n",
    "sensitivity = tp / (tp + fn)  # True Positive Rate\n",
    "specificity = tn / (tn + fp)  # True Negative Rate\n",
    "ppv = tp / (tp + fp)  # Positive Predictive Value\n",
    "npv = tn / (tn + fn)  # Negative Predictive Value\n",
    "\n",
    "print(f\"\\nADDITIONAL METRICS:\")\n",
    "print(f\"Sensitivity (Recall): {sensitivity:.4f}\")\n",
    "print(f\"Specificity: {specificity:.4f}\")\n",
    "print(f\"Positive Predictive Value: {ppv:.4f}\")\n",
    "print(f\"Negative Predictive Value: {npv:.4f}\")"
   ]
  },
  {
   "cell_type": "code",
   "execution_count": 12,
   "id": "3bb19490",
   "metadata": {},
   "outputs": [
    {
     "name": "stdout",
     "output_type": "stream",
     "text": [
      "FEATURE IMPORTANCE WITH P-VALUES:\n",
      "Feature                   Coeff    P-Value    Sig  95% CI              \n",
      "Glucose                    1.1661 ↑  0.000000 ***  [0.901, 1.432]\n",
      "BMI                        0.7274 ↑  0.000000 ***  [0.464, 0.991]\n",
      "Pregnancies                0.3805 ↑  0.001757 **   [0.142, 0.619]\n",
      "DiabetesPedigreeFunction   0.2593 ↑  0.019550 *    [0.042, 0.477]\n",
      "BloodPressure             -0.2048 ↓  0.063584      [-0.421, 0.012]\n",
      "Age                        0.1819 ↑  0.133834      [-0.056, 0.420]\n",
      "Insulin                   -0.1371 ↓  0.268348      [-0.380, 0.106]\n",
      "SkinThickness              0.0695 ↑  0.581463      [-0.178, 0.317]\n"
     ]
    },
    {
     "data": {
      "application/vnd.microsoft.datawrangler.viewer.v0+json": {
       "columns": [
        {
         "name": "index",
         "rawType": "object",
         "type": "string"
        },
        {
         "name": "Feature",
         "rawType": "object",
         "type": "string"
        },
        {
         "name": "Coefficient",
         "rawType": "float64",
         "type": "float"
        },
        {
         "name": "Std_Error",
         "rawType": "float64",
         "type": "float"
        },
        {
         "name": "P_Value",
         "rawType": "float64",
         "type": "float"
        },
        {
         "name": "Conf_Int_Lower",
         "rawType": "float64",
         "type": "float"
        },
        {
         "name": "Conf_Int_Upper",
         "rawType": "float64",
         "type": "float"
        },
        {
         "name": "Abs_Coefficient",
         "rawType": "float64",
         "type": "float"
        },
        {
         "name": "Significance",
         "rawType": "object",
         "type": "string"
        }
       ],
       "ref": "5489c2a6-280e-457d-ae1b-0bf192d34ce1",
       "rows": [
        [
         "x2",
         "Glucose",
         "1.1660757428718602",
         "0.13545496141481886",
         "7.396697926332859e-18",
         "0.9005888969715525",
         "1.431562588772168",
         "1.1660757428718602",
         "***"
        ],
        [
         "x6",
         "BMI",
         "0.7273714375834481",
         "0.1345794930475487",
         "6.489098503427443e-08",
         "0.4636004781525941",
         "0.9911423970143022",
         "0.7273714375834481",
         "***"
        ],
        [
         "x1",
         "Pregnancies",
         "0.3804966745304843",
         "0.12162109672776077",
         "0.0017567607239259606",
         "0.14212370518381098",
         "0.6188696438771576",
         "0.3804966745304843",
         "**"
        ],
        [
         "x7",
         "DiabetesPedigreeFunction",
         "0.25931599685129936",
         "0.11106200185529295",
         "0.019549902179604197",
         "0.041638473164004514",
         "0.47699352053859423",
         "0.25931599685129936",
         "*"
        ],
        [
         "x3",
         "BloodPressure",
         "-0.20482856067497737",
         "0.11041478276703731",
         "0.06358440835679312",
         "-0.4212375582591843",
         "0.01158043690922958",
         "0.20482856067497737",
         ""
        ],
        [
         "x8",
         "Age",
         "0.18187420435642446",
         "0.12131794951167832",
         "0.13383386695081695",
         "-0.0559046073647137",
         "0.4196530160775626",
         "0.18187420435642446",
         ""
        ],
        [
         "x5",
         "Insulin",
         "-0.13707858181402868",
         "0.12384298431303659",
         "0.2683484000822616",
         "-0.37980637080553925",
         "0.10564920717748191",
         "0.13707858181402868",
         ""
        ],
        [
         "x4",
         "SkinThickness",
         "0.06950353185652428",
         "0.1260836911412375",
         "0.5814628681158566",
         "-0.17761596181817307",
         "0.3166230255312216",
         "0.06950353185652428",
         ""
        ]
       ],
       "shape": {
        "columns": 8,
        "rows": 8
       }
      },
      "text/html": [
       "<div>\n",
       "<style scoped>\n",
       "    .dataframe tbody tr th:only-of-type {\n",
       "        vertical-align: middle;\n",
       "    }\n",
       "\n",
       "    .dataframe tbody tr th {\n",
       "        vertical-align: top;\n",
       "    }\n",
       "\n",
       "    .dataframe thead th {\n",
       "        text-align: right;\n",
       "    }\n",
       "</style>\n",
       "<table border=\"1\" class=\"dataframe\">\n",
       "  <thead>\n",
       "    <tr style=\"text-align: right;\">\n",
       "      <th></th>\n",
       "      <th>Feature</th>\n",
       "      <th>Coefficient</th>\n",
       "      <th>Std_Error</th>\n",
       "      <th>P_Value</th>\n",
       "      <th>Conf_Int_Lower</th>\n",
       "      <th>Conf_Int_Upper</th>\n",
       "      <th>Abs_Coefficient</th>\n",
       "      <th>Significance</th>\n",
       "    </tr>\n",
       "  </thead>\n",
       "  <tbody>\n",
       "    <tr>\n",
       "      <th>x2</th>\n",
       "      <td>Glucose</td>\n",
       "      <td>1.166076</td>\n",
       "      <td>0.135455</td>\n",
       "      <td>7.396698e-18</td>\n",
       "      <td>0.900589</td>\n",
       "      <td>1.431563</td>\n",
       "      <td>1.166076</td>\n",
       "      <td>***</td>\n",
       "    </tr>\n",
       "    <tr>\n",
       "      <th>x6</th>\n",
       "      <td>BMI</td>\n",
       "      <td>0.727371</td>\n",
       "      <td>0.134579</td>\n",
       "      <td>6.489099e-08</td>\n",
       "      <td>0.463600</td>\n",
       "      <td>0.991142</td>\n",
       "      <td>0.727371</td>\n",
       "      <td>***</td>\n",
       "    </tr>\n",
       "    <tr>\n",
       "      <th>x1</th>\n",
       "      <td>Pregnancies</td>\n",
       "      <td>0.380497</td>\n",
       "      <td>0.121621</td>\n",
       "      <td>1.756761e-03</td>\n",
       "      <td>0.142124</td>\n",
       "      <td>0.618870</td>\n",
       "      <td>0.380497</td>\n",
       "      <td>**</td>\n",
       "    </tr>\n",
       "    <tr>\n",
       "      <th>x7</th>\n",
       "      <td>DiabetesPedigreeFunction</td>\n",
       "      <td>0.259316</td>\n",
       "      <td>0.111062</td>\n",
       "      <td>1.954990e-02</td>\n",
       "      <td>0.041638</td>\n",
       "      <td>0.476994</td>\n",
       "      <td>0.259316</td>\n",
       "      <td>*</td>\n",
       "    </tr>\n",
       "    <tr>\n",
       "      <th>x3</th>\n",
       "      <td>BloodPressure</td>\n",
       "      <td>-0.204829</td>\n",
       "      <td>0.110415</td>\n",
       "      <td>6.358441e-02</td>\n",
       "      <td>-0.421238</td>\n",
       "      <td>0.011580</td>\n",
       "      <td>0.204829</td>\n",
       "      <td></td>\n",
       "    </tr>\n",
       "    <tr>\n",
       "      <th>x8</th>\n",
       "      <td>Age</td>\n",
       "      <td>0.181874</td>\n",
       "      <td>0.121318</td>\n",
       "      <td>1.338339e-01</td>\n",
       "      <td>-0.055905</td>\n",
       "      <td>0.419653</td>\n",
       "      <td>0.181874</td>\n",
       "      <td></td>\n",
       "    </tr>\n",
       "    <tr>\n",
       "      <th>x5</th>\n",
       "      <td>Insulin</td>\n",
       "      <td>-0.137079</td>\n",
       "      <td>0.123843</td>\n",
       "      <td>2.683484e-01</td>\n",
       "      <td>-0.379806</td>\n",
       "      <td>0.105649</td>\n",
       "      <td>0.137079</td>\n",
       "      <td></td>\n",
       "    </tr>\n",
       "    <tr>\n",
       "      <th>x4</th>\n",
       "      <td>SkinThickness</td>\n",
       "      <td>0.069504</td>\n",
       "      <td>0.126084</td>\n",
       "      <td>5.814629e-01</td>\n",
       "      <td>-0.177616</td>\n",
       "      <td>0.316623</td>\n",
       "      <td>0.069504</td>\n",
       "      <td></td>\n",
       "    </tr>\n",
       "  </tbody>\n",
       "</table>\n",
       "</div>"
      ],
      "text/plain": [
       "                     Feature  Coefficient  Std_Error       P_Value  \\\n",
       "x2                   Glucose     1.166076   0.135455  7.396698e-18   \n",
       "x6                       BMI     0.727371   0.134579  6.489099e-08   \n",
       "x1               Pregnancies     0.380497   0.121621  1.756761e-03   \n",
       "x7  DiabetesPedigreeFunction     0.259316   0.111062  1.954990e-02   \n",
       "x3             BloodPressure    -0.204829   0.110415  6.358441e-02   \n",
       "x8                       Age     0.181874   0.121318  1.338339e-01   \n",
       "x5                   Insulin    -0.137079   0.123843  2.683484e-01   \n",
       "x4             SkinThickness     0.069504   0.126084  5.814629e-01   \n",
       "\n",
       "    Conf_Int_Lower  Conf_Int_Upper  Abs_Coefficient Significance  \n",
       "x2        0.900589        1.431563         1.166076          ***  \n",
       "x6        0.463600        0.991142         0.727371          ***  \n",
       "x1        0.142124        0.618870         0.380497           **  \n",
       "x7        0.041638        0.476994         0.259316            *  \n",
       "x3       -0.421238        0.011580         0.204829               \n",
       "x8       -0.055905        0.419653         0.181874               \n",
       "x5       -0.379806        0.105649         0.137079               \n",
       "x4       -0.177616        0.316623         0.069504               "
      ]
     },
     "execution_count": 12,
     "metadata": {},
     "output_type": "execute_result"
    }
   ],
   "source": [
    "# Feature importance analysis with p-values from statsmodels\n",
    "feature_names = X.columns\n",
    "coefficients = logit_result.params[1:]  # Exclude intercept\n",
    "p_values = logit_result.pvalues[1:]      # Exclude intercept p-value\n",
    "std_errors = logit_result.bse[1:]        # Exclude intercept std error\n",
    "conf_int = logit_result.conf_int().iloc[1:]  # Exclude intercept confidence interval\n",
    "\n",
    "# Create a comprehensive DataFrame with p-values\n",
    "feature_importance = pd.DataFrame({\n",
    "    'Feature': feature_names,\n",
    "    'Coefficient': coefficients,\n",
    "    'Std_Error': std_errors,\n",
    "    'P_Value': p_values,\n",
    "    'Conf_Int_Lower': conf_int[0],\n",
    "    'Conf_Int_Upper': conf_int[1],\n",
    "    'Abs_Coefficient': np.abs(coefficients),\n",
    "    'Significance': ['***' if p < 0.001 else '**' if p < 0.01 else '*' if p < 0.05 else '' for p in p_values]\n",
    "}).sort_values('Abs_Coefficient', ascending=False)\n",
    "\n",
    "print(\"FEATURE IMPORTANCE WITH P-VALUES:\")\n",
    "print(f\"{'Feature':<25} {'Coeff':<8} {'P-Value':<10} {'Sig':<4} {'95% CI':<20}\")\n",
    "\n",
    "for _, row in feature_importance.iterrows():\n",
    "    direction = \"↑\" if row['Coefficient'] > 0 else \"↓\"\n",
    "    ci_str = f\"[{row['Conf_Int_Lower']:.3f}, {row['Conf_Int_Upper']:.3f}]\"\n",
    "    print(f\"{row['Feature']:<25} {row['Coefficient']:>7.4f} {direction} {row['P_Value']:>9.6f} \"\n",
    "          f\"{row['Significance']:<4} {ci_str}\")\n",
    "\n",
    "\n",
    "feature_importance"
   ]
  },
  {
   "cell_type": "code",
   "execution_count": 10,
   "id": "b2e01ece",
   "metadata": {},
   "outputs": [
    {
     "data": {
      "image/png": "[encoded data removed]",
      "text/plain": [
       "<Figure size 1000x800 with 1 Axes>"
      ]
     },
     "metadata": {},
     "output_type": "display_data"
    }
   ],
   "source": [
    "# Visualizations\n",
    "fig, ax = plt.subplots(figsize=(10, 8))\n",
    "plt.suptitle('Logistic Regression Feature Coefficients', fontsize=16, fontweight='bold')\n",
    "\n",
    "# Feature Importance\n",
    "colors = ['red' if x < 0 else 'blue' for x in feature_importance['Coefficient']]\n",
    "bars = ax.barh(feature_importance['Feature'], feature_importance['Coefficient'], color=colors, alpha=0.7)\n",
    "ax.set_title('Feature Coefficients')\n",
    "ax.set_xlabel('Coefficient Value')\n",
    "ax.axvline(x=0, color='black', linestyle='-', linewidth=0.5)\n",
    "ax.grid(True, alpha=0.3)\n",
    "\n",
    "plt.tight_layout()\n",
    "plt.show()"
   ]
  },
  {
   "cell_type": "markdown",
   "id": "ec0bfc7f",
   "metadata": {},
   "source": []
  },
  {
   "cell_type": "code",
   "execution_count": null,
   "id": "156cc371",
   "metadata": {},
   "outputs": [
    {
     "name": "stdout",
     "output_type": "stream",
     "text": [
      "                    Feature       VIF\n",
      "7                       Age  1.571712\n",
      "4                   Insulin  1.535443\n",
      "3             SkinThickness  1.528619\n",
      "0               Pregnancies  1.416812\n",
      "1                   Glucose  1.327608\n",
      "5                       BMI  1.271591\n",
      "2             BloodPressure  1.145884\n",
      "6  DiabetesPedigreeFunction  1.085539\n",
      "\n"
     ]
    },
    {
     "name": "stderr",
     "output_type": "stream",
     "text": [
      "C:\\Users\\joshua.harvey\\AppData\\Local\\Temp\\ipykernel_20684\\2377485152.py:29: UserWarning: No artists with labels found to put in legend.  Note that artists whose label start with an underscore are ignored when legend() is called with no argument.\n",
      "  plt.legend()\n"
     ]
    },
    {
     "data": {
      "image/png": "[encoded data removed]",
      "text/plain": [
       "<Figure size 1000x600 with 1 Axes>"
      ]
     },
     "metadata": {},
     "output_type": "display_data"
    }
   ],
   "source": [
    "from statsmodels.stats.outliers_influence import variance_inflation_factor\n",
    "\n",
    "\n",
    "def calculate_vif(X_data):\n",
    "    vif_data = pd.DataFrame()\n",
    "    vif_data[\"Feature\"] = X_data.columns\n",
    "    vif_data[\"VIF\"] = [variance_inflation_factor(X_data.values, i) \n",
    "                       for i in range(len(X_data.columns))]\n",
    "    return vif_data.sort_values('VIF', ascending=False)\n",
    "\n",
    "\n",
    "# Convert scaled training data back to DataFrame for VIF calculation\n",
    "X_train_scaled_df = pd.DataFrame(X_train_scaled, columns=X.columns)\n",
    "vif_scores = calculate_vif(X_train_scaled_df)\n",
    "\n",
    "print(vif_scores)\n",
    "\n",
    "plt.figure(figsize=(10, 6))\n",
    "colors = ['red' if x > 10 else 'orange' if x > 5 else 'green' for x in vif_scores['VIF']]\n",
    "bars = plt.barh(vif_scores['Feature'], vif_scores['VIF'], color=colors, alpha=0.7)\n",
    "plt.xlabel('VIF Score')\n",
    "plt.title('Variance Inflation Factor (VIF) Scores')\n",
    "plt.legend()\n",
    "plt.grid(True, alpha=0.3)\n",
    "plt.tight_layout()\n",
    "plt.show()"
   ]
  },
  {
   "cell_type": "code",
   "execution_count": null,
   "id": "d1f87b6f",
   "metadata": {},
   "outputs": [],
   "source": []
  }
 ],
 "metadata": {
  "kernelspec": {
   "display_name": ".venv",
   "language": "python",
   "name": "python3"
  },
  "language_info": {
   "codemirror_mode": {
    "name": "ipython",
    "version": 3
   },
   "file_extension": ".py",
   "mimetype": "text/x-python",
   "name": "python",
   "nbconvert_exporter": "python",
   "pygments_lexer": "ipython3",
   "version": "3.13.5"
  }
 },
 "nbformat": 4,
 "nbformat_minor": 5
}
