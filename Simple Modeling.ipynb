{
 "cells": [
  {
   "cell_type": "code",
   "execution_count": 1,
   "id": "52c6bb8e",
   "metadata": {},
   "outputs": [],
   "source": [
    "import pandas as pd\n",
    "from sklearn.model_selection import train_test_split\n",
    "from sklearn.linear_model import LogisticRegression\n",
    "from sklearn.metrics import accuracy_score, classification_report, confusion_matrix\n",
    "from sklearn.preprocessing import StandardScaler\n",
    "import numpy as np\n",
    "import matplotlib.pyplot as plt\n",
    "import seaborn as sns"
   ]
  },
  {
   "cell_type": "code",
   "execution_count": 2,
   "id": "8b183bbb",
   "metadata": {},
   "outputs": [],
   "source": [
    "diabetesData = pd.read_csv('diabetes.csv')"
   ]
  },
  {
   "cell_type": "code",
   "execution_count": 4,
   "id": "da4fe5dc",
   "metadata": {},
   "outputs": [
    {
     "name": "stdout",
     "output_type": "stream",
     "text": [
      "Dataset shape: (768, 9)\n",
      "Dataset columns: ['Pregnancies', 'Glucose', 'BloodPressure', 'SkinThickness', 'Insulin', 'BMI', 'DiabetesPedigreeFunction', 'Age', 'Outcome']\n"
     ]
    }
   ],
   "source": [
    "print(f\"Dataset shape: {diabetesData.shape}\")\n",
    "print(f\"Dataset columns: {diabetesData.columns.tolist()}\")"
   ]
  },
  {
   "cell_type": "code",
   "execution_count": 5,
   "id": "c1539de2",
   "metadata": {},
   "outputs": [
    {
     "name": "stdout",
     "output_type": "stream",
     "text": [
      "Dataset Info:\n",
      "<class 'pandas.core.frame.DataFrame'>\n",
      "RangeIndex: 768 entries, 0 to 767\n",
      "Data columns (total 9 columns):\n",
      " #   Column                    Non-Null Count  Dtype  \n",
      "---  ------                    --------------  -----  \n",
      " 0   Pregnancies               768 non-null    int64  \n",
      " 1   Glucose                   768 non-null    int64  \n",
      " 2   BloodPressure             768 non-null    int64  \n",
      " 3   SkinThickness             768 non-null    int64  \n",
      " 4   Insulin                   768 non-null    int64  \n",
      " 5   BMI                       768 non-null    float64\n",
      " 6   DiabetesPedigreeFunction  768 non-null    float64\n",
      " 7   Age                       768 non-null    int64  \n",
      " 8   Outcome                   768 non-null    int64  \n",
      "dtypes: float64(2), int64(7)\n",
      "memory usage: 54.1 KB\n",
      "None\n",
      "\n",
      "Target variable distribution:\n",
      "Outcome\n",
      "0    500\n",
      "1    268\n",
      "Name: count, dtype: int64\n",
      "\n",
      "Percentage of positive cases: 34.90%\n",
      "\n",
      "Missing values:\n",
      "Pregnancies                 0\n",
      "Glucose                     0\n",
      "BloodPressure               0\n",
      "SkinThickness               0\n",
      "Insulin                     0\n",
      "BMI                         0\n",
      "DiabetesPedigreeFunction    0\n",
      "Age                         0\n",
      "Outcome                     0\n",
      "dtype: int64\n"
     ]
    }
   ],
   "source": [
    "# Explore the data\n",
    "print(\"Dataset Info:\")\n",
    "print(diabetesData.info())\n",
    "print(\"\\nTarget variable distribution:\")\n",
    "print(diabetesData['Outcome'].value_counts())\n",
    "print(f\"\\nPercentage of positive cases: {diabetesData['Outcome'].mean():.2%}\")\n",
    "\n",
    "# Check for missing values\n",
    "print(\"\\nMissing values:\")\n",
    "print(diabetesData.isnull().sum())"
   ]
  },
  {
   "cell_type": "code",
   "execution_count": 7,
   "id": "70d09c7e",
   "metadata": {},
   "outputs": [
    {
     "name": "stdout",
     "output_type": "stream",
     "text": [
      "Features: ['Pregnancies', 'Glucose', 'BloodPressure', 'SkinThickness', 'Insulin', 'BMI', 'DiabetesPedigreeFunction', 'Age']\n",
      "Feature matrix shape: (768, 8)\n",
      "Target vector shape: (768,)\n",
      "\n",
      "Columns with zero values (potential missing data indicators):\n",
      "Pregnancies: 111 zeros (14.5%)\n",
      "Glucose: 5 zeros (0.7%)\n",
      "BloodPressure: 35 zeros (4.6%)\n",
      "SkinThickness: 227 zeros (29.6%)\n",
      "Insulin: 374 zeros (48.7%)\n",
      "BMI: 11 zeros (1.4%)\n"
     ]
    }
   ],
   "source": [
    "# Prepare the data for modeling\n",
    "X = diabetesData.drop('Outcome', axis=1)  # Features\n",
    "y = diabetesData['Outcome']  # Target\n",
    "\n",
    "print(\"Features:\", X.columns.tolist())\n",
    "print(f\"Feature matrix shape: {X.shape}\")\n",
    "print(f\"Target vector shape: {y.shape}\")\n",
    "\n",
    "# Check for any zero values that might indicate missing data\n",
    "print(\"\\nColumns with zero values (potential missing data indicators):\")\n",
    "for col in X.columns:\n",
    "    zero_count = (X[col] == 0).sum()\n",
    "    zero_percentage = (zero_count / len(X)) * 100\n",
    "    if zero_count > 0:\n",
    "        print(f\"{col}: {zero_count} zeros ({zero_percentage:.1f}%)\")"
   ]
  },
  {
   "cell_type": "code",
   "execution_count": 8,
   "id": "7acfacfa",
   "metadata": {},
   "outputs": [
    {
     "name": "stdout",
     "output_type": "stream",
     "text": [
      "Training set size: 614 samples\n",
      "Test set size: 154 samples\n",
      "Training set positive rate: 34.85%\n",
      "Test set positive rate: 35.06%\n",
      "\n",
      "Features have been standardized (mean=0, std=1)\n"
     ]
    }
   ],
   "source": [
    "# Split the data into training and testing sets\n",
    "X_train, X_test, y_train, y_test = train_test_split(\n",
    "    X, y, test_size=0.2, random_state=42, stratify=y\n",
    ")\n",
    "\n",
    "print(f\"Training set size: {X_train.shape[0]} samples\")\n",
    "print(f\"Test set size: {X_test.shape[0]} samples\")\n",
    "print(f\"Training set positive rate: {y_train.mean():.2%}\")\n",
    "print(f\"Test set positive rate: {y_test.mean():.2%}\")\n",
    "\n",
    "# Scale the features (important for logistic regression)\n",
    "scaler = StandardScaler()\n",
    "X_train_scaled = scaler.fit_transform(X_train)\n",
    "X_test_scaled = scaler.transform(X_test)\n",
    "\n",
    "print(\"\\nFeatures have been standardized (mean=0, std=1)\")"
   ]
  },
  {
   "cell_type": "code",
   "execution_count": 9,
   "id": "69a4a335",
   "metadata": {},
   "outputs": [
    {
     "name": "stdout",
     "output_type": "stream",
     "text": [
      "Logistic Regression Model Training Complete!\n",
      "Training Accuracy: 0.7915\n",
      "Test Accuracy: 0.7143\n"
     ]
    }
   ],
   "source": [
    "# Create and train the logistic regression model\n",
    "log_reg = LogisticRegression(random_state=42, max_iter=1000)\n",
    "log_reg.fit(X_train_scaled, y_train)\n",
    "\n",
    "# Make predictions\n",
    "y_train_pred = log_reg.predict(X_train_scaled)\n",
    "y_test_pred = log_reg.predict(X_test_scaled)\n",
    "\n",
    "# Get prediction probabilities\n",
    "y_train_proba = log_reg.predict_proba(X_train_scaled)[:, 1]\n",
    "y_test_proba = log_reg.predict_proba(X_test_scaled)[:, 1]\n",
    "\n",
    "print(\"Logistic Regression Model Training Complete!\")\n",
    "print(f\"Training Accuracy: {accuracy_score(y_train, y_train_pred):.4f}\")\n",
    "print(f\"Test Accuracy: {accuracy_score(y_test, y_test_pred):.4f}\")"
   ]
  },
  {
   "cell_type": "code",
   "execution_count": 10,
   "id": "06f7a0ad",
   "metadata": {},
   "outputs": [
    {
     "name": "stdout",
     "output_type": "stream",
     "text": [
      "\n",
      "CLASSIFICATION REPORT (Test Set):\n",
      "              precision    recall  f1-score   support\n",
      "\n",
      " No Diabetes       0.76      0.82      0.79       100\n",
      "    Diabetes       0.61      0.52      0.56        54\n",
      "\n",
      "    accuracy                           0.71       154\n",
      "   macro avg       0.68      0.67      0.67       154\n",
      "weighted avg       0.71      0.71      0.71       154\n",
      "\n",
      "\n",
      "CONFUSION MATRIX (Test Set):\n",
      "                 Predicted\n",
      "                No    Yes\n",
      "Actual No     82    18\n",
      "Actual Yes    26    28\n",
      "\n",
      "ADDITIONAL METRICS:\n",
      "Sensitivity (Recall): 0.5185\n",
      "Specificity: 0.8200\n",
      "Positive Predictive Value: 0.6087\n",
      "Negative Predictive Value: 0.7593\n"
     ]
    }
   ],
   "source": [
    "# Detailed model evaluation\n",
    "print(\"\\nCLASSIFICATION REPORT (Test Set):\")\n",
    "print(classification_report(y_test, y_test_pred, target_names=['No Diabetes', 'Diabetes']))\n",
    "\n",
    "# Confusion Matrix\n",
    "cm = confusion_matrix(y_test, y_test_pred)\n",
    "print(f\"\\nCONFUSION MATRIX (Test Set):\")\n",
    "print(f\"                 Predicted\")\n",
    "print(f\"                No    Yes\")\n",
    "print(f\"Actual No   {cm[0,0]:4d}  {cm[0,1]:4d}\")\n",
    "print(f\"Actual Yes  {cm[1,0]:4d}  {cm[1,1]:4d}\")\n",
    "\n",
    "# Calculate additional metrics\n",
    "tn, fp, fn, tp = cm.ravel()\n",
    "sensitivity = tp / (tp + fn)  # True Positive Rate\n",
    "specificity = tn / (tn + fp)  # True Negative Rate\n",
    "ppv = tp / (tp + fp)  # Positive Predictive Value\n",
    "npv = tn / (tn + fn)  # Negative Predictive Value\n",
    "\n",
    "print(f\"\\nADDITIONAL METRICS:\")\n",
    "print(f\"Sensitivity (Recall): {sensitivity:.4f}\")\n",
    "print(f\"Specificity: {specificity:.4f}\")\n",
    "print(f\"Positive Predictive Value: {ppv:.4f}\")\n",
    "print(f\"Negative Predictive Value: {npv:.4f}\")"
   ]
  },
  {
   "cell_type": "code",
   "execution_count": 18,
   "id": "3bb19490",
   "metadata": {},
   "outputs": [
    {
     "data": {
      "application/vnd.microsoft.datawrangler.viewer.v0+json": {
       "columns": [
        {
         "name": "index",
         "rawType": "int64",
         "type": "integer"
        },
        {
         "name": "Feature",
         "rawType": "object",
         "type": "string"
        },
        {
         "name": "Coefficient",
         "rawType": "float64",
         "type": "float"
        },
        {
         "name": "Abs_Coefficient",
         "rawType": "float64",
         "type": "float"
        }
       ],
       "ref": "d192a86f-437f-48b5-a0ef-7713488c6490",
       "rows": [
        [
         "1",
         "Glucose",
         "1.1441512736875823",
         "1.1441512736875823"
        ],
        [
         "5",
         "BMI",
         "0.7138934066356617",
         "0.7138934066356617"
        ],
        [
         "0",
         "Pregnancies",
         "0.37317821047634997",
         "0.37317821047634997"
        ],
        [
         "6",
         "DiabetesPedigreeFunction",
         "0.2555267466921689",
         "0.2555267466921689"
        ],
        [
         "2",
         "BloodPressure",
         "-0.19763683090179177",
         "0.19763683090179177"
        ],
        [
         "7",
         "Age",
         "0.18417898610631533",
         "0.18417898610631533"
        ],
        [
         "4",
         "Insulin",
         "-0.12730823048049886",
         "0.12730823048049886"
        ],
        [
         "3",
         "SkinThickness",
         "0.06653497138971803",
         "0.06653497138971803"
        ]
       ],
       "shape": {
        "columns": 3,
        "rows": 8
       }
      },
      "text/html": [
       "<div>\n",
       "<style scoped>\n",
       "    .dataframe tbody tr th:only-of-type {\n",
       "        vertical-align: middle;\n",
       "    }\n",
       "\n",
       "    .dataframe tbody tr th {\n",
       "        vertical-align: top;\n",
       "    }\n",
       "\n",
       "    .dataframe thead th {\n",
       "        text-align: right;\n",
       "    }\n",
       "</style>\n",
       "<table border=\"1\" class=\"dataframe\">\n",
       "  <thead>\n",
       "    <tr style=\"text-align: right;\">\n",
       "      <th></th>\n",
       "      <th>Feature</th>\n",
       "      <th>Coefficient</th>\n",
       "      <th>Abs_Coefficient</th>\n",
       "    </tr>\n",
       "  </thead>\n",
       "  <tbody>\n",
       "    <tr>\n",
       "      <th>1</th>\n",
       "      <td>Glucose</td>\n",
       "      <td>1.144151</td>\n",
       "      <td>1.144151</td>\n",
       "    </tr>\n",
       "    <tr>\n",
       "      <th>5</th>\n",
       "      <td>BMI</td>\n",
       "      <td>0.713893</td>\n",
       "      <td>0.713893</td>\n",
       "    </tr>\n",
       "    <tr>\n",
       "      <th>0</th>\n",
       "      <td>Pregnancies</td>\n",
       "      <td>0.373178</td>\n",
       "      <td>0.373178</td>\n",
       "    </tr>\n",
       "    <tr>\n",
       "      <th>6</th>\n",
       "      <td>DiabetesPedigreeFunction</td>\n",
       "      <td>0.255527</td>\n",
       "      <td>0.255527</td>\n",
       "    </tr>\n",
       "    <tr>\n",
       "      <th>2</th>\n",
       "      <td>BloodPressure</td>\n",
       "      <td>-0.197637</td>\n",
       "      <td>0.197637</td>\n",
       "    </tr>\n",
       "    <tr>\n",
       "      <th>7</th>\n",
       "      <td>Age</td>\n",
       "      <td>0.184179</td>\n",
       "      <td>0.184179</td>\n",
       "    </tr>\n",
       "    <tr>\n",
       "      <th>4</th>\n",
       "      <td>Insulin</td>\n",
       "      <td>-0.127308</td>\n",
       "      <td>0.127308</td>\n",
       "    </tr>\n",
       "    <tr>\n",
       "      <th>3</th>\n",
       "      <td>SkinThickness</td>\n",
       "      <td>0.066535</td>\n",
       "      <td>0.066535</td>\n",
       "    </tr>\n",
       "  </tbody>\n",
       "</table>\n",
       "</div>"
      ],
      "text/plain": [
       "                    Feature  Coefficient  Abs_Coefficient\n",
       "1                   Glucose     1.144151         1.144151\n",
       "5                       BMI     0.713893         0.713893\n",
       "0               Pregnancies     0.373178         0.373178\n",
       "6  DiabetesPedigreeFunction     0.255527         0.255527\n",
       "2             BloodPressure    -0.197637         0.197637\n",
       "7                       Age     0.184179         0.184179\n",
       "4                   Insulin    -0.127308         0.127308\n",
       "3             SkinThickness     0.066535         0.066535"
      ]
     },
     "execution_count": 18,
     "metadata": {},
     "output_type": "execute_result"
    }
   ],
   "source": [
    "# Feature importance analysis\n",
    "feature_names = X.columns\n",
    "coefficients = log_reg.coef_[0]\n",
    "\n",
    "# Create a DataFrame for better visualization\n",
    "feature_importance = pd.DataFrame({\n",
    "    'Feature': feature_names,\n",
    "    'Coefficient': coefficients,\n",
    "    'Abs_Coefficient': np.abs(coefficients)\n",
    "}).sort_values('Abs_Coefficient', ascending=False)\n",
    "\n",
    "feature_importance"
   ]
  },
  {
   "cell_type": "code",
   "execution_count": 21,
   "id": "b2e01ece",
   "metadata": {},
   "outputs": [
    {
     "data": {
      "image/png": "[encoded data removed]",
      "text/plain": [
       "<Figure size 1000x800 with 1 Axes>"
      ]
     },
     "metadata": {},
     "output_type": "display_data"
    }
   ],
   "source": [
    "# Visualizations\n",
    "fig, ax = plt.subplots(figsize=(10, 8))\n",
    "plt.suptitle('Logistic Regression Feature Coefficients', fontsize=16, fontweight='bold')\n",
    "\n",
    "# Feature Importance\n",
    "colors = ['red' if x < 0 else 'blue' for x in feature_importance['Coefficient']]\n",
    "bars = ax.barh(feature_importance['Feature'], feature_importance['Coefficient'], color=colors, alpha=0.7)\n",
    "ax.set_title('Feature Coefficients')\n",
    "ax.set_xlabel('Coefficient Value')\n",
    "ax.axvline(x=0, color='black', linestyle='-', linewidth=0.5)\n",
    "ax.grid(True, alpha=0.3)\n",
    "\n",
    "plt.tight_layout()\n",
    "plt.show()"
   ]
  },
  {
   "cell_type": "markdown",
   "id": "ec0bfc7f",
   "metadata": {},
   "source": []
  }
 ],
 "metadata": {
  "kernelspec": {
   "display_name": ".venv",
   "language": "python",
   "name": "python3"
  },
  "language_info": {
   "codemirror_mode": {
    "name": "ipython",
    "version": 3
   },
   "file_extension": ".py",
   "mimetype": "text/x-python",
   "name": "python",
   "nbconvert_exporter": "python",
   "pygments_lexer": "ipython3",
   "version": "3.13.5"
  }
 },
 "nbformat": 4,
 "nbformat_minor": 5
}
